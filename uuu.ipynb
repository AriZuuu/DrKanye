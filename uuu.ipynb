{
 "cells": [
  {
   "cell_type": "code",
   "execution_count": 18,
   "id": "64fb1e2a",
   "metadata": {},
   "outputs": [],
   "source": [
    "import os"
   ]
  },
  {
   "cell_type": "code",
   "execution_count": 19,
   "id": "c4fab1e1",
   "metadata": {},
   "outputs": [
    {
     "data": {
      "text/plain": [
       "['.ipynb_checkpoints',\n",
       " 'A1_R1.fastq',\n",
       " 'A1_R2.fastq',\n",
       " 'desktop.ini',\n",
       " 'Untitled.ipynb']"
      ]
     },
     "execution_count": 19,
     "metadata": {},
     "output_type": "execute_result"
    }
   ],
   "source": [
    "os.listdir()"
   ]
  },
  {
   "cell_type": "code",
   "execution_count": 39,
   "id": "97f47f48",
   "metadata": {},
   "outputs": [],
   "source": [
    "import re"
   ]
  },
  {
   "cell_type": "code",
   "execution_count": 40,
   "id": "72904f13",
   "metadata": {},
   "outputs": [
    {
     "name": "stdout",
     "output_type": "stream",
     "text": [
      "0 @M02352:100:000000000-B4Y7F:1:1101:11841:2018 1:N:0:300\n",
      "1 GTGCCAGCCGCCGCGGTAATACGGAAGGTCCTGGCGTTATCCGGATTTATTGGGTTTAAAGGGAGCGTAGGCTGAAGGTTAAGCTTGACGTGAAATGTACCGGCTCAACCGGTGAATTGCGTCGCGCACTGGTTTTCTTTAGTGTGCAGACGGAAGGCTGAATTCGTGGTGTAGCGGTGAAATTCTTAGATATCACGAAGAACCCCGATTGCGAAGGCAGCCGGCGTGAGCGCAACTGACGCTTAAGCTCGAAAGCTCGGGTATCGAACAGGATTATATACCCTGGTAGTCCTCGCGGTAA\n",
      "2 +\n",
      "3 <ABCCCCFGGFGC:CCF+@C@E<,,,6,CFED,,C7FC,;CE,+,8@C,CC,9,CFC,,,,,,,8>+@,+,9C,,,,4CF,,,C,C,,54CC,+,9?E,59++@F:,,4?7:C++,CB9,+@>+>3++8>,,F<@FCAG,3,:,@9,,8,,5>****>,3,7@DC*?**@*>9;;*:F5*,,6,?EC,,,?+@<++*/*/*+<888**=B8C**/**5*1*9/))//**205:*)9:)*9*7773*0989))*)-7*0*/)1(9.))*1)**(0=4)).*/967)).))54<)5(,(,-((\n",
      "4 @M02352:100:000000000-B4Y7F:1:1101:10055:2055 1:N:0:300\n",
      "5 GTGCCAGCAGCCGCGGTAATACGGAAGGTCCGGGCGTTATCCGGATTTATTGGGTTTAAAGGGAGCGCAGGCTGGAGGTTAAGCGTGACGTGAAATGTAGCCGCTCAACGGCTGAGTTGCGTCGCGAACTGGTTTCCTTGAGTGGGTACGACGGAGGCGGAATTCGTGGTGTAGCGGTGAAATGCTTAGATATCACGAAGAACCCCGATTGCGAAGGCAGCCTCCGAGTCCTCAACTGACGCTAATGCTCGAAAGTGCGGGTATCGAACAGGATTAGATACCCTGGTAGTCCGCACGGTAA\n",
      "6 +\n",
      "7 CCCCCGGGGGGGGGGGGGGGGGGGDCEGGGGDDCCCFG7FEFDDEEGGCFFFGFGGGDA9CCECCGDCC7B=FECCDEGGF9<A:F+?FEFC@<AF?F9<BBFEGEC@FC7CECCFFFCF7F77=7+:@FC?FFFFFGG99:E:7>>CC7>F*C*<CBCE7:FFFCF77FCF9:C7CG>597C+<FGC++ACFF?9885E>C8FCCC:CG*<:=E8CFDGCFF5CC*:C=>EG7CDF@FF<>D))?*9B95)*)(=6B):399;A3)7>:55(992224*969<5)8)-44<(,(-00-3(\n",
      "8 @M02352:100:000000000-B4Y7F:1:1101:13636:2089 1:N:0:300\n",
      "9 GTGTCAGCCGCCGCGGTAATACGGAGGATGCGAGCGTTATCCGGATTTATTGGGCTTAAAGGGTTCGCAGGCGGCACGTCAAGTCAGCTGTCAAACTCCGCGGCTCAACCCCGTACCGCCGTTGAAACTGGCGCGCTTTAGTTTCTGCTACGGCTGCGGAATTTGCGGTTTTGCGGTTTAATGCCTAGATATTCCGCAGAACCCCGCTTGCCTAGGCAGCTTCTCTCCACATTACCTCACCTCTTGCACCAAACCGTTGGGTTCGTAACCGCTTTGATTCCCCTGTTTTTCCCCCCGTTCA\n",
      "10 +\n",
      "11 CCCCCGGGGGGGGGGGGGGGFGG,,@@7FFF8:@FBFG,EDEEEC@CF9,C<<F,9E<@9EEEF,F::,6+@+@++++B?++,CF,,5?BF9<E,C5,54+@+FFGCFF>+B+8>B+++@+FF*3,3@,3,7*81**>1,8@,@,7,,,,7*F7**4***4*,,,,4*=*4**,**/**++0+++++*+3++0+0<5C5*<C**A**:;**++3**0<**7*:***+2+2*200*099**/*)*0***1))**)-)<:<5)*-)())***))-7))).)1*0)()/))((,).((((-(((\n",
      "12 @M02352:100:000000000-B4Y7F:1:1101:13615:2092 1:N:0:300\n",
      "13 GTGTCAGCCGCCGCGGTAATACGGAGGATGCGAGCGTTATCCGGATTTATTGGGTTTAAAGGGTGCGCAGGCGGCACGTCAAGTCAGCGGTCAAACTGCGGGGCTCAACCCCGTACCTCCGTTGAAACTTGCCCGCTTGAGTCTTTGCGACGGCGGCGGAATTTCCGGTTTTGCGGTTAAATGCCTAGATATCACGCAGAACTCCTATTGCCAAGGCAGCTGCCCTCCACATCTCTTACCCTCCTTCACGAAAGCGTTGGTATCCAACCGGATTAGATTCCCTTGTTGTTCACCCACTTAA\n",
      "14 +\n",
      "15 CCCCCGGGGGGGGGGGGGGGGGG;FCG,EFG@@CFGGGEC<EEEGCFGF<FE?F68FDFGG,BFCEEGGDCEEG7+CFE+=:<EFFCE:CFCGGG,:,C+6=@:F@BFGG+3C<F7FCAF:FF**,8:=,>;,>FC<C>,,8,7,37,4*CCD>FDC**28C+++32*288*20**/*/+<?9:6C9*3<::+90;;ECCFCGFG++<CF7+3<::C02***9>**/1*:*7++00*12*2/00:*7*9)0/*)()7)/7/0)/)9)**0)),0*)..)//=*.:@2(((-).)(-(4).)\n",
      "16 @M02352:100:000000000-B4Y7F:1:1101:23611:2103 1:N:0:300\n",
      "17 GTGCCAGCCGCCGCGGTAATACGTAGGGGGCAAGCGTTATCCGGATTTACTGGGTGTAAAGGGAGCGTAGACGGCAAAGTAAGTCTGAAGTGAAAGCCTGGGGCTCAACCCCGGAATTGCTTTGGAAACTATTTACCTAGAGTGCAGGAGAGGTAAGTGGAATTCCTAGTGTAGCGGTGAAATGCGTAGATATTAGGAGGAACACCGGCGGCCAAGGCGGCTTACTGGACTGTAACTGACGTTGATGCTCGAAAGCGTGGGGAGCAAACAGGATTAGATACCCTGGTAGTCCACGCCGTAA\n",
      "18 +\n",
      "19 CCCC@<CFE@BCG+@CFCFDDFGC<CB,+8@@D8<F@BCG@D7+:CF<,EDCFEFG:,6FE,,66=+@,7C,8,@=C<?F5,AAA5,55BFGGA<C,EE,?DGC:@9CBFCFFC@:FCGFFFD,3,=>FDGGG<FF>FD=DED9><C7+>7<C7@ACCBF:FBCC9DF9@3EFC,:*>58>=B9B7>8E8ECC7=C?7A*:CCEFE8:E8CG*:*8@55))>594:<C229CG?>**9:C7>@F>:FF**0)9<2757*2)/(0(7)*9>5<:)9<>25@F@:7@FBA)5)6)5(((,411\n",
      "20 @M02352:100:000000000-B4Y7F:1:1101:7322:2109 1:N:0:300\n",
      "21 GTGTCAGCCGCCGCGGTAATACGGAGGATGCAAGCGTTATCCGGATTTATTGGGTTTAAAGGGTGCGTAGGCGGAGGAGTAAGTCAGGGGTGAAATGCCGCAGCTCAACTGCGGAACTGCCTTTGATACTGCTTTTCTGGAGTTCGGATGCCGTGGGAGGAATGGGCAGTGTAGCGGTGAAATGCATAGATATTGCCCAGAACACCGATTGCGAAGGCATCTCACGAATCCGACACTGACGCTGAGGCACGAAAGCGTGGGGATCAAACAGGATTAGATACCCTGGTAGTCCACGCAGTAA\n",
      "22 +\n",
      "23 CCCCCGGGGGGGGGFGGGGGFGGG7CEEEGFFGGGGGGGGGGGGGGGGCFFCCGGGGGFGGFGGCGDFCFCFGGGCEGGGGAFFFAEGGGGGGGCFFGFEGG>FGGFGGGFF>FGGGGDGGGGGGCFGGGDGGEGGGGCDFFDFEE77FED:FFGGG@BE>CCF?,>CFFFGFFCEGGC=CGF9EFG+>CF;CF7B?FFFGGG?GG5EGGFGEE58EFGGG7:*:FEEGGGEGGCDFFFG3@B>>C>F:F>GC>>FFFDEGD0B?F?GG@<41:F)8><FFFF>:F>2>A<<<??>993>4\n",
      "24 @M02352:100:000000000-B4Y7F:1:1101:22646:2120 1:N:0:300\n"
     ]
    }
   ],
   "source": [
    "with open ('A1_R1.fastq','r') as fq:\n",
    "    C = 0\n",
    "    for line in fq:\n",
    "        line = line.rstrip()\n",
    "        if C == 25:\n",
    "            break\n",
    "        print(C, line)\n",
    "        C += 1"
   ]
  },
  {
   "cell_type": "code",
   "execution_count": 41,
   "id": "15859eac",
   "metadata": {},
   "outputs": [],
   "source": [
    "import re"
   ]
  },
  {
   "cell_type": "code",
   "execution_count": 43,
   "id": "3d72178b",
   "metadata": {},
   "outputs": [
    {
     "name": "stdout",
     "output_type": "stream",
     "text": [
      "@A1_R1_1\n",
      "GTGCCAGCCGCCGCGGTAATACGGAAGGTCCTGGCGTTATCCGGATTTAT\n",
      "+\n",
      "<ABCCCCFGGFGC:CCF+@C@E<,,,6,CFED,,C7FC,;CE,+,8@C,C\n",
      "@A1_R1_2\n",
      "GTGCCAGCAGCCGCGGTAATACGGAAGGTCCGGGCGTTATCCGGATTTAT\n",
      "+\n",
      "CCCCCGGGGGGGGGGGGGGGGGGGDCEGGGGDDCCCFG7FEFDDEEGGCF\n",
      "@A1_R1_3\n",
      "GTGTCAGCCGCCGCGGTAATACGGAGGATGCGAGCGTTATCCGGATTTAT\n",
      "+\n",
      "CCCCCGGGGGGGGGGGGGGGFGG,,@@7FFF8:@FBFG,EDEEEC@CF9,\n",
      "@A1_R1_4\n",
      "GTGTCAGCCGCCGCGGTAATACGGAGGATGCGAGCGTTATCCGGATTTAT\n",
      "+\n",
      "CCCCCGGGGGGGGGGGGGGGGGG;FCG,EFG@@CFGGGEC<EEEGCFGF<\n",
      "@A1_R1_5\n",
      "GTGCCAGCCGCCGCGGTAATACGTAGGGGGCAAGCGTTATCCGGATTTAC\n",
      "+\n",
      "CCCC@<CFE@BCG+@CFCFDDFGC<CB,+8@@D8<F@BCG@D7+:CF<,E\n",
      "@A1_R1_6\n",
      "GTGTCAGCCGCCGCGGTAATACGGAGGATGCAAGCGTTATCCGGATTTAT\n",
      "+\n",
      "CCCCCGGGGGGGGGFGGGGGFGGG7CEEEGFFGGGGGGGGGGGGGGGGCF\n",
      "@A1_R1_7\n",
      "GTGCCAGCCGCCGCGGTAATACGTATGGTGCAAGCGTTATCCGGATTTAC\n",
      "+\n",
      "CCCCCFEGDD>GGEGGGEFFGGGADFGGGGC@<F8FGGGGGG>FCBFFFC\n",
      "@A1_R1_8\n",
      "GTGTCAGCAGCCGCGGTAATACGTAGGGGGCAAGCGTTATCCGGATTTAC\n",
      "+\n",
      "CACCCGFGGGGGGGGGGGGGGDFGGGGGGGGGGGGGGGGGGGGGGGGGGG\n",
      "@A1_R1_9\n",
      "GTGCCAGCCGCCGCGGTAATACGGAAGGTCCGGGCGTTATCCGGATTTAT\n",
      "+\n",
      "CCCC<CF<DFFGEEEGCC@E@FFF;;CCCC,@F:@@@FEECFGG7F,C66\n",
      "@A1_R1_10\n",
      "GTGTCAGCCGCCGCGGTAATACGGAAGGTCCGGGCGTTATCCGGATTTAT\n",
      "+\n",
      "CCCCCFGGGEGGGGEGGGEGCFGGBFGGGGGGGGGGGGGGGGGGGGGGGG\n",
      "@A1_R1_11\n",
      "GTGCCAGCAGCCGCGGTAATACGGAAGATGCGAGCGTTATCCGGATTTAT\n",
      "+\n",
      "CCCCCGGGGGGGGGGGGGGGGGGGGGGGGGGGGGGGGGGGGGGGGGGGGG\n",
      "@A1_R1_12\n",
      "GTGCCAGCCGCCGCGGTAATACGGAGGATGCGAGCGTTATCCGGATTCAT\n",
      "+\n",
      "@ACCCGC8DCFGC+6@CC@AFGGGGC@,CEEGGD:C@F:FFGGDGB,9CF\n",
      "@A1_R1_13\n",
      "GTGTCAGCCGCCGCGGTAATACGGAAGGTCCGGGCGTTATCCGGATTTAT\n"
     ]
    }
   ],
   "source": [
    "with open ('A1_R1.fastq','r') as fq:\n",
    "    C = 0\n",
    "    L = 1\n",
    "    N = 0\n",
    "    for line in fq:\n",
    "        line = line.rstrip()\n",
    "        if C == 50:\n",
    "            break\n",
    "        if N == 4:\n",
    "            N = 0\n",
    "        if N == 0:\n",
    "            print(re.sub('@M02352.*','@A1_R1', line)+'_'+str(L))\n",
    "            L += 1\n",
    "        else:\n",
    "            print(line[:50])\n",
    "            pass\n",
    "        C += 1\n",
    "        N += 1"
   ]
  },
  {
   "cell_type": "code",
   "execution_count": 34,
   "id": "30b44922",
   "metadata": {},
   "outputs": [
    {
     "data": {
      "text/plain": [
       "(50, int, '50', str)"
      ]
     },
     "execution_count": 34,
     "metadata": {},
     "output_type": "execute_result"
    }
   ],
   "source": [
    "C, type(C), str(C), type(str(C))"
   ]
  },
  {
   "cell_type": "code",
   "execution_count": null,
   "id": "341f2c9e",
   "metadata": {},
   "outputs": [],
   "source": []
  },
  {
   "cell_type": "code",
   "execution_count": 44,
   "id": "291884b1",
   "metadata": {},
   "outputs": [
    {
     "data": {
      "text/plain": [
       "['.ipynb_checkpoints',\n",
       " 'A1_R1.fastq',\n",
       " 'A1_R2.fastq',\n",
       " 'Byt_5.ipynb',\n",
       " 'desktop.ini']"
      ]
     },
     "execution_count": 44,
     "metadata": {},
     "output_type": "execute_result"
    }
   ],
   "source": [
    "os.listdir()"
   ]
  },
  {
   "cell_type": "code",
   "execution_count": 55,
   "id": "441d04d9",
   "metadata": {},
   "outputs": [
    {
     "ename": "NameError",
     "evalue": "name 'File' is not defined",
     "output_type": "error",
     "traceback": [
      "\u001b[1;31m---------------------------------------------------------------------------\u001b[0m",
      "\u001b[1;31mNameError\u001b[0m                                 Traceback (most recent call last)",
      "\u001b[1;32m<ipython-input-55-a9e1942ff72c>\u001b[0m in \u001b[0;36m<module>\u001b[1;34m\u001b[0m\n\u001b[0;32m     13\u001b[0m             \u001b[0mfile\u001b[0m\u001b[1;33m.\u001b[0m\u001b[0mwrite\u001b[0m\u001b[1;33m(\u001b[0m\u001b[0mline\u001b[0m\u001b[1;33m+\u001b[0m\u001b[1;34m'\\n'\u001b[0m\u001b[1;33m)\u001b[0m\u001b[1;33m\u001b[0m\u001b[1;33m\u001b[0m\u001b[0m\n\u001b[0;32m     14\u001b[0m         \u001b[0mN\u001b[0m \u001b[1;33m+=\u001b[0m \u001b[1;36m1\u001b[0m\u001b[1;33m\u001b[0m\u001b[1;33m\u001b[0m\u001b[0m\n\u001b[1;32m---> 15\u001b[1;33m \u001b[0mFile\u001b[0m\u001b[1;33m.\u001b[0m\u001b[0mclose\u001b[0m\u001b[1;33m(\u001b[0m\u001b[1;33m)\u001b[0m\u001b[1;33m\u001b[0m\u001b[1;33m\u001b[0m\u001b[0m\n\u001b[0m",
      "\u001b[1;31mNameError\u001b[0m: name 'File' is not defined"
     ]
    }
   ],
   "source": [
    "file = open('A1_R1_well.fastq', 'w')\n",
    "with open ('A1_R1.fastq','r') as fq:\n",
    "    L = 1\n",
    "    N = 0\n",
    "    for line in fq:\n",
    "        line = line.rstrip()\n",
    "        if N == 4:\n",
    "            N = 0\n",
    "        if N == 0:\n",
    "            file.write(re.sub('@M02352.*','@A1_R1', line)+str(L)+'\\n')\n",
    "            L += 1\n",
    "        else:\n",
    "            file.write(line+'\\n')\n",
    "        N += 1\n",
    "File.close()"
   ]
  },
  {
   "cell_type": "code",
   "execution_count": 56,
   "id": "cfec3f24",
   "metadata": {},
   "outputs": [
    {
     "data": {
      "text/plain": [
       "['.ipynb_checkpoints',\n",
       " 'A1_R1.fastq',\n",
       " 'A1_R1_edit.fastq',\n",
       " 'A1_R1_well.fastq',\n",
       " 'A1_R2.fastq',\n",
       " 'Byt_5.ipynb',\n",
       " 'desktop.ini']"
      ]
     },
     "execution_count": 56,
     "metadata": {},
     "output_type": "execute_result"
    }
   ],
   "source": [
    "os.listdir()"
   ]
  },
  {
   "cell_type": "code",
   "execution_count": null,
   "id": "de7a01fd",
   "metadata": {},
   "outputs": [],
   "source": []
  },
  {
   "cell_type": "code",
   "execution_count": null,
   "id": "daa77ad2",
   "metadata": {},
   "outputs": [],
   "source": []
  }
 ],
 "metadata": {
  "kernelspec": {
   "display_name": "Python 3",
   "language": "python",
   "name": "python3"
  },
  "language_info": {
   "codemirror_mode": {
    "name": "ipython",
    "version": 3
   },
   "file_extension": ".py",
   "mimetype": "text/x-python",
   "name": "python",
   "nbconvert_exporter": "python",
   "pygments_lexer": "ipython3",
   "version": "3.6.7"
  }
 },
 "nbformat": 4,
 "nbformat_minor": 5
}
